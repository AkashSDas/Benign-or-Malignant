{
 "cells": [
  {
   "cell_type": "markdown",
   "metadata": {
    "papermill": {
     "duration": 0.027749,
     "end_time": "2021-04-02T12:49:43.613709",
     "exception": false,
     "start_time": "2021-04-02T12:49:43.585960",
     "status": "completed"
    },
    "tags": []
   },
   "source": [
    "# Classify Benign or Malignant\n",
    "\n",
    "Here [Breast Cancer](https://www.kaggle.com/karteek93/breast-cancer) by [karteek menda](https://www.kaggle.com/karteek93) is used to create a `machine learning` model to classify `Breast Cancer`. `EDA` is `Bengin` or `Malignant`.\n",
    "\n",
    "![](https://media.giphy.com/media/fzZzoftMBR8is/giphy.gif)"
   ]
  },
  {
   "cell_type": "code",
   "execution_count": 1,
   "metadata": {
    "execution": {
     "iopub.execute_input": "2021-04-02T12:49:43.675527Z",
     "iopub.status.busy": "2021-04-02T12:49:43.674935Z",
     "iopub.status.idle": "2021-04-02T12:49:45.693790Z",
     "shell.execute_reply": "2021-04-02T12:49:45.694236Z"
    },
    "papermill": {
     "duration": 2.052099,
     "end_time": "2021-04-02T12:49:45.694554",
     "exception": false,
     "start_time": "2021-04-02T12:49:43.642455",
     "status": "completed"
    },
    "tags": []
   },
   "outputs": [],
   "source": [
    "import pandas as pd\n",
    "import numpy as np\n",
    "import seaborn as sns\n",
    "import matplotlib.pyplot as plt\n",
    "from sklearn.linear_model import LassoCV\n",
    "from sklearn.svm import SVC\n",
    "from sklearn.model_selection import train_test_split, StratifiedKFold, cross_val_score, GridSearchCV, learning_curve\n",
    "import statsmodels.api as sm\n",
    "from sklearn.preprocessing import StandardScaler\n",
    "from sklearn.metrics import f1_score, precision_score, recall_score, classification_report, confusion_matrix\n",
    "import itertools\n",
    "from sklearn.pipeline import Pipeline\n",
    "from joblib import dump"
   ]
  },
  {
   "cell_type": "code",
   "execution_count": 2,
   "metadata": {
    "execution": {
     "iopub.execute_input": "2021-04-02T12:49:45.752945Z",
     "iopub.status.busy": "2021-04-02T12:49:45.752256Z",
     "iopub.status.idle": "2021-04-02T12:49:45.794067Z",
     "shell.execute_reply": "2021-04-02T12:49:45.793485Z"
    },
    "papermill": {
     "duration": 0.072733,
     "end_time": "2021-04-02T12:49:45.794194",
     "exception": false,
     "start_time": "2021-04-02T12:49:45.721461",
     "status": "completed"
    },
    "tags": []
   },
   "outputs": [
    {
     "data": {
      "text/html": [
       "<div>\n",
       "<style scoped>\n",
       "    .dataframe tbody tr th:only-of-type {\n",
       "        vertical-align: middle;\n",
       "    }\n",
       "\n",
       "    .dataframe tbody tr th {\n",
       "        vertical-align: top;\n",
       "    }\n",
       "\n",
       "    .dataframe thead th {\n",
       "        text-align: right;\n",
       "    }\n",
       "</style>\n",
       "<table border=\"1\" class=\"dataframe\">\n",
       "  <thead>\n",
       "    <tr style=\"text-align: right;\">\n",
       "      <th></th>\n",
       "      <th>ID</th>\n",
       "      <th>Clump</th>\n",
       "      <th>UnifSize</th>\n",
       "      <th>UnifShape</th>\n",
       "      <th>MargAdh</th>\n",
       "      <th>SingEpiSize</th>\n",
       "      <th>BareNuc</th>\n",
       "      <th>BlandChrom</th>\n",
       "      <th>NormNucl</th>\n",
       "      <th>Mit</th>\n",
       "      <th>Class</th>\n",
       "    </tr>\n",
       "  </thead>\n",
       "  <tbody>\n",
       "    <tr>\n",
       "      <th>668</th>\n",
       "      <td>1350319</td>\n",
       "      <td>5</td>\n",
       "      <td>7</td>\n",
       "      <td>4</td>\n",
       "      <td>1</td>\n",
       "      <td>6</td>\n",
       "      <td>1</td>\n",
       "      <td>7</td>\n",
       "      <td>10</td>\n",
       "      <td>3</td>\n",
       "      <td>4</td>\n",
       "    </tr>\n",
       "    <tr>\n",
       "      <th>341</th>\n",
       "      <td>810104</td>\n",
       "      <td>1</td>\n",
       "      <td>1</td>\n",
       "      <td>1</td>\n",
       "      <td>1</td>\n",
       "      <td>2</td>\n",
       "      <td>1</td>\n",
       "      <td>3</td>\n",
       "      <td>1</td>\n",
       "      <td>1</td>\n",
       "      <td>2</td>\n",
       "    </tr>\n",
       "    <tr>\n",
       "      <th>39</th>\n",
       "      <td>1091262</td>\n",
       "      <td>2</td>\n",
       "      <td>5</td>\n",
       "      <td>3</td>\n",
       "      <td>3</td>\n",
       "      <td>6</td>\n",
       "      <td>7</td>\n",
       "      <td>7</td>\n",
       "      <td>5</td>\n",
       "      <td>1</td>\n",
       "      <td>4</td>\n",
       "    </tr>\n",
       "    <tr>\n",
       "      <th>578</th>\n",
       "      <td>695219</td>\n",
       "      <td>1</td>\n",
       "      <td>1</td>\n",
       "      <td>1</td>\n",
       "      <td>1</td>\n",
       "      <td>2</td>\n",
       "      <td>1</td>\n",
       "      <td>2</td>\n",
       "      <td>1</td>\n",
       "      <td>1</td>\n",
       "      <td>2</td>\n",
       "    </tr>\n",
       "    <tr>\n",
       "      <th>107</th>\n",
       "      <td>1170420</td>\n",
       "      <td>1</td>\n",
       "      <td>6</td>\n",
       "      <td>8</td>\n",
       "      <td>10</td>\n",
       "      <td>8</td>\n",
       "      <td>10</td>\n",
       "      <td>5</td>\n",
       "      <td>7</td>\n",
       "      <td>1</td>\n",
       "      <td>4</td>\n",
       "    </tr>\n",
       "  </tbody>\n",
       "</table>\n",
       "</div>"
      ],
      "text/plain": [
       "          ID  Clump  UnifSize  UnifShape  MargAdh  SingEpiSize BareNuc  \\\n",
       "668  1350319      5         7          4        1            6       1   \n",
       "341   810104      1         1          1        1            2       1   \n",
       "39   1091262      2         5          3        3            6       7   \n",
       "578   695219      1         1          1        1            2       1   \n",
       "107  1170420      1         6          8       10            8      10   \n",
       "\n",
       "     BlandChrom  NormNucl  Mit  Class  \n",
       "668           7        10    3      4  \n",
       "341           3         1    1      2  \n",
       "39            7         5    1      4  \n",
       "578           2         1    1      2  \n",
       "107           5         7    1      4  "
      ]
     },
     "execution_count": 2,
     "metadata": {},
     "output_type": "execute_result"
    }
   ],
   "source": [
    "def load_dataset():\n",
    "    path = '/kaggle/input/breast-cancer/cell_samples.csv'\n",
    "    return pd.read_csv(path)\n",
    "\n",
    "\n",
    "df = load_dataset()\n",
    "df.sample(5)"
   ]
  },
  {
   "cell_type": "markdown",
   "metadata": {
    "papermill": {
     "duration": 0.026709,
     "end_time": "2021-04-02T12:49:45.848123",
     "exception": false,
     "start_time": "2021-04-02T12:49:45.821414",
     "status": "completed"
    },
    "tags": []
   },
   "source": [
    " benign (value = 2) or malignant (value = 4)"
   ]
  },
  {
   "cell_type": "markdown",
   "metadata": {
    "papermill": {
     "duration": 0.027559,
     "end_time": "2021-04-02T12:49:45.902959",
     "exception": false,
     "start_time": "2021-04-02T12:49:45.875400",
     "status": "completed"
    },
    "tags": []
   },
   "source": [
    "## Data Preparation"
   ]
  },
  {
   "cell_type": "code",
   "execution_count": 3,
   "metadata": {
    "execution": {
     "iopub.execute_input": "2021-04-02T12:49:45.964132Z",
     "iopub.status.busy": "2021-04-02T12:49:45.963481Z",
     "iopub.status.idle": "2021-04-02T12:49:45.977447Z",
     "shell.execute_reply": "2021-04-02T12:49:45.978203Z"
    },
    "papermill": {
     "duration": 0.048407,
     "end_time": "2021-04-02T12:49:45.978441",
     "exception": false,
     "start_time": "2021-04-02T12:49:45.930034",
     "status": "completed"
    },
    "tags": []
   },
   "outputs": [
    {
     "name": "stdout",
     "output_type": "stream",
     "text": [
      "<class 'pandas.core.frame.DataFrame'>\n",
      "RangeIndex: 699 entries, 0 to 698\n",
      "Data columns (total 11 columns):\n",
      " #   Column       Non-Null Count  Dtype \n",
      "---  ------       --------------  ----- \n",
      " 0   ID           699 non-null    int64 \n",
      " 1   Clump        699 non-null    int64 \n",
      " 2   UnifSize     699 non-null    int64 \n",
      " 3   UnifShape    699 non-null    int64 \n",
      " 4   MargAdh      699 non-null    int64 \n",
      " 5   SingEpiSize  699 non-null    int64 \n",
      " 6   BareNuc      699 non-null    object\n",
      " 7   BlandChrom   699 non-null    int64 \n",
      " 8   NormNucl     699 non-null    int64 \n",
      " 9   Mit          699 non-null    int64 \n",
      " 10  Class        699 non-null    int64 \n",
      "dtypes: int64(10), object(1)\n",
      "memory usage: 60.2+ KB\n"
     ]
    }
   ],
   "source": [
    "df.info()"
   ]
  },
  {
   "cell_type": "markdown",
   "metadata": {
    "papermill": {
     "duration": 0.026905,
     "end_time": "2021-04-02T12:49:46.033859",
     "exception": false,
     "start_time": "2021-04-02T12:49:46.006954",
     "status": "completed"
    },
    "tags": []
   },
   "source": [
    "The above info tells us that the data doesn't has any null values, but missing data can be in other forms too. All the above data are numeric but the column `BareNuc's`dtype is `object`, so checking it unique value"
   ]
  },
  {
   "cell_type": "code",
   "execution_count": 4,
   "metadata": {
    "execution": {
     "iopub.execute_input": "2021-04-02T12:49:46.092975Z",
     "iopub.status.busy": "2021-04-02T12:49:46.092243Z",
     "iopub.status.idle": "2021-04-02T12:49:46.100805Z",
     "shell.execute_reply": "2021-04-02T12:49:46.101352Z"
    },
    "papermill": {
     "duration": 0.039448,
     "end_time": "2021-04-02T12:49:46.101527",
     "exception": false,
     "start_time": "2021-04-02T12:49:46.062079",
     "status": "completed"
    },
    "tags": []
   },
   "outputs": [
    {
     "name": "stdout",
     "output_type": "stream",
     "text": [
      "['1', '10', '2', '4', '3', '9', '7', '?', '5', '8', '6']\n",
      "['1', '10', '2', '4', '3', '9', '7', nan, '5', '8', '6']\n"
     ]
    }
   ],
   "source": [
    "print(df.BareNuc.unique().tolist())\n",
    "# `BareNuc` column has missing data\n",
    "\n",
    "# replacing missing values with nan\n",
    "df.BareNuc.replace('?', np.nan, inplace=True)\n",
    "print(df.BareNuc.unique().tolist())\n",
    "\n",
    "# converting dtype\n",
    "df.BareNuc = df.BareNuc.astype(np.float64)"
   ]
  },
  {
   "cell_type": "code",
   "execution_count": 5,
   "metadata": {
    "execution": {
     "iopub.execute_input": "2021-04-02T12:49:46.159726Z",
     "iopub.status.busy": "2021-04-02T12:49:46.159074Z",
     "iopub.status.idle": "2021-04-02T12:49:46.164156Z",
     "shell.execute_reply": "2021-04-02T12:49:46.164793Z"
    },
    "papermill": {
     "duration": 0.035806,
     "end_time": "2021-04-02T12:49:46.165037",
     "exception": false,
     "start_time": "2021-04-02T12:49:46.129231",
     "status": "completed"
    },
    "tags": []
   },
   "outputs": [
    {
     "name": "stdout",
     "output_type": "stream",
     "text": [
      "BareNuc column has 16 missing values\n"
     ]
    }
   ],
   "source": [
    "print(f'BareNuc column has {len(df[df.BareNuc.isnull()])} missing values')"
   ]
  },
  {
   "cell_type": "code",
   "execution_count": 6,
   "metadata": {
    "execution": {
     "iopub.execute_input": "2021-04-02T12:49:46.231798Z",
     "iopub.status.busy": "2021-04-02T12:49:46.231167Z",
     "iopub.status.idle": "2021-04-02T12:49:46.234271Z",
     "shell.execute_reply": "2021-04-02T12:49:46.233641Z"
    },
    "papermill": {
     "duration": 0.041287,
     "end_time": "2021-04-02T12:49:46.234407",
     "exception": false,
     "start_time": "2021-04-02T12:49:46.193120",
     "status": "completed"
    },
    "tags": []
   },
   "outputs": [],
   "source": [
    "def plot_histplot(column):\n",
    "    sns.histplot(x=column, color='#adfc03', alpha=.7) \n",
    "    \n",
    "\n",
    "def plot_scatterplot(x_column, y_column):\n",
    "    sns.scatterplot(x=x_column, y=y_column, color='#fc03ad', alpha=.7, s=80)\n",
    "    \n",
    "    \n",
    "def plot_stripplot(x_column, y_column):\n",
    "    sns.stripplot(\n",
    "        x=x_column, y=y_column,\n",
    "        color='#3b3b3b', alpha=.7, jitter=.1\n",
    "    )\n",
    "    \n",
    "    \n",
    "def plot_countplot(column):\n",
    "    sns.countplot(x=column, color='#4aff95', alpha=.7)\n",
    "    \n",
    "    \n",
    "def plot_corr(df):\n",
    "    # the `corr` method uses pearson correaltion\n",
    "    corr = df.corr()\n",
    "    \n",
    "    _, ax = plt.subplots(1, 1, figsize=(12, 6))\n",
    "    g = sns.heatmap(corr, ax=ax, cmap=sns.cubehelix_palette(start=.5, rot=-.5, as_cmap=True))\n",
    "\n",
    "    for _ax in g.get_xticklabels():\n",
    "        _ax.set_rotation(75)\n",
    "        \n",
    "        \n",
    "def plot_boxplot(column):\n",
    "    sns.boxplot(x=df.Class, y=column)"
   ]
  },
  {
   "cell_type": "code",
   "execution_count": 7,
   "metadata": {
    "execution": {
     "iopub.execute_input": "2021-04-02T12:49:46.298030Z",
     "iopub.status.busy": "2021-04-02T12:49:46.296951Z",
     "iopub.status.idle": "2021-04-02T12:49:46.494035Z",
     "shell.execute_reply": "2021-04-02T12:49:46.493432Z"
    },
    "papermill": {
     "duration": 0.230997,
     "end_time": "2021-04-02T12:49:46.494176",
     "exception": false,
     "start_time": "2021-04-02T12:49:46.263179",
     "status": "completed"
    },
    "tags": []
   },
   "outputs": [
    {
     "data": {
      "image/png": "[encoded data removed]",
      "text/plain": [
       "<Figure size 432x288 with 1 Axes>"
      ]
     },
     "metadata": {
      "needs_background": "light"
     },
     "output_type": "display_data"
    }
   ],
   "source": [
    "plot_histplot(df.BareNuc)\n",
    "\n",
    "# The data points majorly have 1 as their value\n",
    "# so replacing missing values with that\n",
    "df.BareNuc.fillna(1, inplace=True)"
   ]
  },
  {
   "cell_type": "markdown",
   "metadata": {
    "papermill": {
     "duration": 0.028582,
     "end_time": "2021-04-02T12:49:46.552418",
     "exception": false,
     "start_time": "2021-04-02T12:49:46.523836",
     "status": "completed"
    },
    "tags": []
   },
   "source": [
    "`Missing values` problem solved"
   ]
  },
  {
   "cell_type": "code",
   "execution_count": 8,
   "metadata": {
    "execution": {
     "iopub.execute_input": "2021-04-02T12:49:46.614557Z",
     "iopub.status.busy": "2021-04-02T12:49:46.613968Z",
     "iopub.status.idle": "2021-04-02T12:49:46.619748Z",
     "shell.execute_reply": "2021-04-02T12:49:46.619144Z"
    },
    "papermill": {
     "duration": 0.038688,
     "end_time": "2021-04-02T12:49:46.619893",
     "exception": false,
     "start_time": "2021-04-02T12:49:46.581205",
     "status": "completed"
    },
    "tags": []
   },
   "outputs": [],
   "source": [
    "def drop_column(df, column_name, inplace=True):\n",
    "    return df.drop([column_name], axis='columns', inplace=inplace)\n",
    "\n",
    "\n",
    "drop_column(df, 'ID')"
   ]
  },
  {
   "cell_type": "markdown",
   "metadata": {
    "papermill": {
     "duration": 0.028887,
     "end_time": "2021-04-02T12:49:46.677784",
     "exception": false,
     "start_time": "2021-04-02T12:49:46.648897",
     "status": "completed"
    },
    "tags": []
   },
   "source": [
    "## EDA"
   ]
  },
  {
   "cell_type": "code",
   "execution_count": 9,
   "metadata": {
    "execution": {
     "iopub.execute_input": "2021-04-02T12:49:46.739158Z",
     "iopub.status.busy": "2021-04-02T12:49:46.738579Z",
     "iopub.status.idle": "2021-04-02T12:49:47.026486Z",
     "shell.execute_reply": "2021-04-02T12:49:47.026945Z"
    },
    "papermill": {
     "duration": 0.32009,
     "end_time": "2021-04-02T12:49:47.027121",
     "exception": false,
     "start_time": "2021-04-02T12:49:46.707031",
     "status": "completed"
    },
    "tags": []
   },
   "outputs": [
    {
     "data": {
      "image/png": "[encoded data removed]",
      "text/plain": [
       "<Figure size 864x432 with 2 Axes>"
      ]
     },
     "metadata": {
      "needs_background": "light"
     },
     "output_type": "display_data"
    }
   ],
   "source": [
    "plot_corr(df)"
   ]
  },
  {
   "cell_type": "code",
   "execution_count": 10,
   "metadata": {
    "execution": {
     "iopub.execute_input": "2021-04-02T12:49:47.096693Z",
     "iopub.status.busy": "2021-04-02T12:49:47.095779Z",
     "iopub.status.idle": "2021-04-02T12:49:47.193701Z",
     "shell.execute_reply": "2021-04-02T12:49:47.193209Z"
    },
    "papermill": {
     "duration": 0.135893,
     "end_time": "2021-04-02T12:49:47.193840",
     "exception": false,
     "start_time": "2021-04-02T12:49:47.057947",
     "status": "completed"
    },
    "tags": []
   },
   "outputs": [
    {
     "data": {
      "image/png": "[encoded data removed]",
      "text/plain": [
       "<Figure size 432x288 with 1 Axes>"
      ]
     },
     "metadata": {
      "needs_background": "light"
     },
     "output_type": "display_data"
    }
   ],
   "source": [
    "plot_stripplot(df.Class, df.Mit)"
   ]
  },
  {
   "cell_type": "code",
   "execution_count": 11,
   "metadata": {
    "execution": {
     "iopub.execute_input": "2021-04-02T12:49:47.275726Z",
     "iopub.status.busy": "2021-04-02T12:49:47.274338Z",
     "iopub.status.idle": "2021-04-02T12:49:47.437153Z",
     "shell.execute_reply": "2021-04-02T12:49:47.436215Z"
    },
    "papermill": {
     "duration": 0.213051,
     "end_time": "2021-04-02T12:49:47.437288",
     "exception": false,
     "start_time": "2021-04-02T12:49:47.224237",
     "status": "completed"
    },
    "tags": []
   },
   "outputs": [
    {
     "data": {
      "image/png": "[encoded data removed]",
      "text/plain": [
       "<Figure size 432x288 with 1 Axes>"
      ]
     },
     "metadata": {
      "needs_background": "light"
     },
     "output_type": "display_data"
    }
   ],
   "source": [
    "plot_countplot(df.Mit)"
   ]
  },
  {
   "cell_type": "code",
   "execution_count": 12,
   "metadata": {
    "execution": {
     "iopub.execute_input": "2021-04-02T12:49:47.504806Z",
     "iopub.status.busy": "2021-04-02T12:49:47.504184Z",
     "iopub.status.idle": "2021-04-02T12:49:47.508690Z",
     "shell.execute_reply": "2021-04-02T12:49:47.508217Z"
    },
    "papermill": {
     "duration": 0.040439,
     "end_time": "2021-04-02T12:49:47.508838",
     "exception": false,
     "start_time": "2021-04-02T12:49:47.468399",
     "status": "completed"
    },
    "tags": []
   },
   "outputs": [
    {
     "data": {
      "text/plain": [
       "Index(['Clump', 'UnifSize', 'UnifShape', 'MargAdh', 'SingEpiSize', 'BareNuc',\n",
       "       'BlandChrom', 'NormNucl', 'Mit', 'Class'],\n",
       "      dtype='object')"
      ]
     },
     "execution_count": 12,
     "metadata": {},
     "output_type": "execute_result"
    }
   ],
   "source": [
    "df.columns"
   ]
  },
  {
   "cell_type": "code",
   "execution_count": 13,
   "metadata": {
    "execution": {
     "iopub.execute_input": "2021-04-02T12:49:47.592140Z",
     "iopub.status.busy": "2021-04-02T12:49:47.578707Z",
     "iopub.status.idle": "2021-04-02T12:49:48.022626Z",
     "shell.execute_reply": "2021-04-02T12:49:48.023124Z"
    },
    "papermill": {
     "duration": 0.482532,
     "end_time": "2021-04-02T12:49:48.023299",
     "exception": false,
     "start_time": "2021-04-02T12:49:47.540767",
     "status": "completed"
    },
    "tags": []
   },
   "outputs": [
    {
     "data": {
      "text/plain": [
       "<matplotlib.legend.Legend at 0x7fab64f5ad50>"
      ]
     },
     "execution_count": 13,
     "metadata": {},
     "output_type": "execute_result"
    },
    {
     "data": {
      "image/png": "[encoded data removed]",
      "text/plain": [
       "<Figure size 720x288 with 1 Axes>"
      ]
     },
     "metadata": {
      "needs_background": "light"
     },
     "output_type": "display_data"
    }
   ],
   "source": [
    "_, ax = plt.subplots(figsize=(10, 4))\n",
    "sns.scatterplot(x='Clump', y='UnifSize', size='UnifShape', data=df[df.Class == 4], color='#141414', s=80, ax=ax)\n",
    "sns.scatterplot(x='Clump', y='UnifSize', size='UnifShape', data=df[df.Class == 2], color='#00bfff', s=80, ax=ax)\n",
    "plt.legend(bbox_to_anchor=(1.01, 1),borderaxespad=0)\n",
    "\n",
    "# black == 4\n",
    "# blue == 2"
   ]
  },
  {
   "cell_type": "code",
   "execution_count": 14,
   "metadata": {
    "execution": {
     "iopub.execute_input": "2021-04-02T12:49:48.093500Z",
     "iopub.status.busy": "2021-04-02T12:49:48.092827Z",
     "iopub.status.idle": "2021-04-02T12:49:48.201285Z",
     "shell.execute_reply": "2021-04-02T12:49:48.201752Z"
    },
    "papermill": {
     "duration": 0.145641,
     "end_time": "2021-04-02T12:49:48.201930",
     "exception": false,
     "start_time": "2021-04-02T12:49:48.056289",
     "status": "completed"
    },
    "tags": []
   },
   "outputs": [
    {
     "data": {
      "image/png": "[encoded data removed]",
      "text/plain": [
       "<Figure size 432x288 with 1 Axes>"
      ]
     },
     "metadata": {
      "needs_background": "light"
     },
     "output_type": "display_data"
    }
   ],
   "source": [
    "plot_boxplot(df.Clump)\n",
    "# malignant has higher clump"
   ]
  },
  {
   "cell_type": "code",
   "execution_count": 15,
   "metadata": {
    "execution": {
     "iopub.execute_input": "2021-04-02T12:49:48.272082Z",
     "iopub.status.busy": "2021-04-02T12:49:48.271503Z",
     "iopub.status.idle": "2021-04-02T12:49:48.276531Z",
     "shell.execute_reply": "2021-04-02T12:49:48.277056Z"
    },
    "papermill": {
     "duration": 0.041619,
     "end_time": "2021-04-02T12:49:48.277213",
     "exception": false,
     "start_time": "2021-04-02T12:49:48.235594",
     "status": "completed"
    },
    "tags": []
   },
   "outputs": [
    {
     "data": {
      "text/plain": [
       "Index(['Clump', 'UnifSize', 'UnifShape', 'MargAdh', 'SingEpiSize', 'BareNuc',\n",
       "       'BlandChrom', 'NormNucl', 'Mit', 'Class'],\n",
       "      dtype='object')"
      ]
     },
     "execution_count": 15,
     "metadata": {},
     "output_type": "execute_result"
    }
   ],
   "source": [
    "df.columns"
   ]
  },
  {
   "cell_type": "code",
   "execution_count": 16,
   "metadata": {
    "execution": {
     "iopub.execute_input": "2021-04-02T12:49:48.351287Z",
     "iopub.status.busy": "2021-04-02T12:49:48.350708Z",
     "iopub.status.idle": "2021-04-02T12:49:48.353306Z",
     "shell.execute_reply": "2021-04-02T12:49:48.352866Z"
    },
    "papermill": {
     "duration": 0.042312,
     "end_time": "2021-04-02T12:49:48.353439",
     "exception": false,
     "start_time": "2021-04-02T12:49:48.311127",
     "status": "completed"
    },
    "tags": []
   },
   "outputs": [],
   "source": [
    "def plot_box_and_count(df, column_name):\n",
    "    _, ax = plt.subplots(1, 2, figsize=(20, 4))\n",
    "    sns.boxplot(x=df.Class, y=df[column_name], ax=ax[0])\n",
    "    sns.countplot(x=column_name, data=df[df.Class == 2], color='#7300ff', ax=ax[1])\n",
    "    ax[1].set_xlabel(f'Benign - {column_name}')"
   ]
  },
  {
   "cell_type": "code",
   "execution_count": 17,
   "metadata": {
    "execution": {
     "iopub.execute_input": "2021-04-02T12:49:48.425432Z",
     "iopub.status.busy": "2021-04-02T12:49:48.424790Z",
     "iopub.status.idle": "2021-04-02T12:49:48.680950Z",
     "shell.execute_reply": "2021-04-02T12:49:48.681376Z"
    },
    "papermill": {
     "duration": 0.294192,
     "end_time": "2021-04-02T12:49:48.681558",
     "exception": false,
     "start_time": "2021-04-02T12:49:48.387366",
     "status": "completed"
    },
    "tags": []
   },
   "outputs": [
    {
     "data": {
      "image/png": "[encoded data removed]",
      "text/plain": [
       "<Figure size 1440x288 with 2 Axes>"
      ]
     },
     "metadata": {
      "needs_background": "light"
     },
     "output_type": "display_data"
    }
   ],
   "source": [
    "plot_box_and_count(df, 'UnifSize')\n",
    "\n",
    "# benign has most of the UnifSize as 1 which also explains the bloxplot\n",
    "# by looking at both countplot & boxplot we can say that malignant has much higher  \n",
    "# UnifSize"
   ]
  },
  {
   "cell_type": "code",
   "execution_count": 18,
   "metadata": {
    "execution": {
     "iopub.execute_input": "2021-04-02T12:49:48.875069Z",
     "iopub.status.busy": "2021-04-02T12:49:48.874415Z",
     "iopub.status.idle": "2021-04-02T12:49:49.114857Z",
     "shell.execute_reply": "2021-04-02T12:49:49.115289Z"
    },
    "papermill": {
     "duration": 0.398442,
     "end_time": "2021-04-02T12:49:49.115452",
     "exception": false,
     "start_time": "2021-04-02T12:49:48.717010",
     "status": "completed"
    },
    "tags": []
   },
   "outputs": [
    {
     "data": {
      "image/png": "[encoded data removed]",
      "text/plain": [
       "<Figure size 1440x288 with 2 Axes>"
      ]
     },
     "metadata": {
      "needs_background": "light"
     },
     "output_type": "display_data"
    }
   ],
   "source": [
    "plot_box_and_count(df, 'UnifShape')\n",
    "# UnifShape case is also similar to UnifSize"
   ]
  },
  {
   "cell_type": "code",
   "execution_count": 19,
   "metadata": {
    "execution": {
     "iopub.execute_input": "2021-04-02T12:49:49.192889Z",
     "iopub.status.busy": "2021-04-02T12:49:49.192270Z",
     "iopub.status.idle": "2021-04-02T12:49:49.442066Z",
     "shell.execute_reply": "2021-04-02T12:49:49.441462Z"
    },
    "papermill": {
     "duration": 0.29119,
     "end_time": "2021-04-02T12:49:49.442210",
     "exception": false,
     "start_time": "2021-04-02T12:49:49.151020",
     "status": "completed"
    },
    "tags": []
   },
   "outputs": [
    {
     "data": {
      "image/png": "[encoded data removed]",
      "text/plain": [
       "<Figure size 1440x288 with 2 Axes>"
      ]
     },
     "metadata": {
      "needs_background": "light"
     },
     "output_type": "display_data"
    }
   ],
   "source": [
    "plot_box_and_count(df, 'MargAdh')\n",
    "\n",
    "# MargAdh case is also similar to UnifSize\n",
    "# But unlike UnifShape & UnifSize here malignant is not too big\n",
    "# but it is surely bigger than benign"
   ]
  },
  {
   "cell_type": "code",
   "execution_count": 20,
   "metadata": {
    "execution": {
     "iopub.execute_input": "2021-04-02T12:49:49.527040Z",
     "iopub.status.busy": "2021-04-02T12:49:49.526410Z",
     "iopub.status.idle": "2021-04-02T12:49:49.776527Z",
     "shell.execute_reply": "2021-04-02T12:49:49.776056Z"
    },
    "papermill": {
     "duration": 0.297255,
     "end_time": "2021-04-02T12:49:49.776685",
     "exception": false,
     "start_time": "2021-04-02T12:49:49.479430",
     "status": "completed"
    },
    "tags": []
   },
   "outputs": [
    {
     "data": {
      "image/png": "[encoded data removed]",
      "text/plain": [
       "<Figure size 1440x288 with 2 Axes>"
      ]
     },
     "metadata": {
      "needs_background": "light"
     },
     "output_type": "display_data"
    }
   ],
   "source": [
    "plot_box_and_count(df, 'SingEpiSize')\n",
    "\n",
    "# SingEpiSize case is also similar to UnifSize\n",
    "# But unlike UnifShape & UnifSize here malignant is not that big\n",
    "# but it is surely bigger than benign"
   ]
  },
  {
   "cell_type": "code",
   "execution_count": 21,
   "metadata": {
    "execution": {
     "iopub.execute_input": "2021-04-02T12:49:49.873243Z",
     "iopub.status.busy": "2021-04-02T12:49:49.868115Z",
     "iopub.status.idle": "2021-04-02T12:49:50.116240Z",
     "shell.execute_reply": "2021-04-02T12:49:50.115737Z"
    },
    "papermill": {
     "duration": 0.30258,
     "end_time": "2021-04-02T12:49:50.116386",
     "exception": false,
     "start_time": "2021-04-02T12:49:49.813806",
     "status": "completed"
    },
    "tags": []
   },
   "outputs": [
    {
     "data": {
      "image/png": "[encoded data removed]",
      "text/plain": [
       "<Figure size 1440x288 with 2 Axes>"
      ]
     },
     "metadata": {
      "needs_background": "light"
     },
     "output_type": "display_data"
    }
   ],
   "source": [
    "plot_box_and_count(df, 'BareNuc')\n",
    "# UnifShape case is also similar to UnifSize"
   ]
  },
  {
   "cell_type": "code",
   "execution_count": 22,
   "metadata": {
    "execution": {
     "iopub.execute_input": "2021-04-02T12:49:50.229359Z",
     "iopub.status.busy": "2021-04-02T12:49:50.213145Z",
     "iopub.status.idle": "2021-04-02T12:49:50.453139Z",
     "shell.execute_reply": "2021-04-02T12:49:50.452651Z"
    },
    "papermill": {
     "duration": 0.297932,
     "end_time": "2021-04-02T12:49:50.453277",
     "exception": false,
     "start_time": "2021-04-02T12:49:50.155345",
     "status": "completed"
    },
    "tags": []
   },
   "outputs": [
    {
     "data": {
      "image/png": "[encoded data removed]",
      "text/plain": [
       "<Figure size 1440x288 with 2 Axes>"
      ]
     },
     "metadata": {
      "needs_background": "light"
     },
     "output_type": "display_data"
    }
   ],
   "source": [
    "plot_box_and_count(df, 'BlandChrom')"
   ]
  },
  {
   "cell_type": "code",
   "execution_count": 23,
   "metadata": {
    "execution": {
     "iopub.execute_input": "2021-04-02T12:49:50.549583Z",
     "iopub.status.busy": "2021-04-02T12:49:50.535791Z",
     "iopub.status.idle": "2021-04-02T12:49:50.800740Z",
     "shell.execute_reply": "2021-04-02T12:49:50.800220Z"
    },
    "papermill": {
     "duration": 0.309234,
     "end_time": "2021-04-02T12:49:50.800886",
     "exception": false,
     "start_time": "2021-04-02T12:49:50.491652",
     "status": "completed"
    },
    "tags": []
   },
   "outputs": [
    {
     "data": {
      "image/png": "[encoded data removed]",
      "text/plain": [
       "<Figure size 1440x288 with 2 Axes>"
      ]
     },
     "metadata": {
      "needs_background": "light"
     },
     "output_type": "display_data"
    }
   ],
   "source": [
    "plot_box_and_count(df, 'NormNucl')"
   ]
  },
  {
   "cell_type": "code",
   "execution_count": 24,
   "metadata": {
    "execution": {
     "iopub.execute_input": "2021-04-02T12:49:50.921751Z",
     "iopub.status.busy": "2021-04-02T12:49:50.903718Z",
     "iopub.status.idle": "2021-04-02T12:49:51.115273Z",
     "shell.execute_reply": "2021-04-02T12:49:51.114789Z"
    },
    "papermill": {
     "duration": 0.275259,
     "end_time": "2021-04-02T12:49:51.115415",
     "exception": false,
     "start_time": "2021-04-02T12:49:50.840156",
     "status": "completed"
    },
    "tags": []
   },
   "outputs": [
    {
     "data": {
      "image/png": "[encoded data removed]",
      "text/plain": [
       "<Figure size 1440x288 with 2 Axes>"
      ]
     },
     "metadata": {
      "needs_background": "light"
     },
     "output_type": "display_data"
    }
   ],
   "source": [
    "plot_box_and_count(df, 'Mit')"
   ]
  },
  {
   "cell_type": "markdown",
   "metadata": {
    "papermill": {
     "duration": 0.041337,
     "end_time": "2021-04-02T12:49:51.197803",
     "exception": false,
     "start_time": "2021-04-02T12:49:51.156466",
     "status": "completed"
    },
    "tags": []
   },
   "source": [
    "For `benign` except for `BlandChrom` column, all other columns data is highly concentrated to a specific value"
   ]
  },
  {
   "cell_type": "markdown",
   "metadata": {
    "papermill": {
     "duration": 0.039528,
     "end_time": "2021-04-02T12:49:51.277787",
     "exception": false,
     "start_time": "2021-04-02T12:49:51.238259",
     "status": "completed"
    },
    "tags": []
   },
   "source": [
    "## Modelling"
   ]
  },
  {
   "cell_type": "code",
   "execution_count": 25,
   "metadata": {
    "execution": {
     "iopub.execute_input": "2021-04-02T12:49:51.367000Z",
     "iopub.status.busy": "2021-04-02T12:49:51.366065Z",
     "iopub.status.idle": "2021-04-02T12:49:51.369332Z",
     "shell.execute_reply": "2021-04-02T12:49:51.368817Z"
    },
    "papermill": {
     "duration": 0.051529,
     "end_time": "2021-04-02T12:49:51.369469",
     "exception": false,
     "start_time": "2021-04-02T12:49:51.317940",
     "status": "completed"
    },
    "tags": []
   },
   "outputs": [],
   "source": [
    "# Shuffling the dataset\n",
    "dataset = df.sample(frac=1, random_state=0)\n",
    "\n",
    "features = dataset.columns.tolist()\n",
    "features.remove('Class')\n",
    "\n",
    "x = dataset[features]\n",
    "y = dataset[['Class']]"
   ]
  },
  {
   "cell_type": "code",
   "execution_count": 26,
   "metadata": {
    "execution": {
     "iopub.execute_input": "2021-04-02T12:49:51.453169Z",
     "iopub.status.busy": "2021-04-02T12:49:51.452218Z",
     "iopub.status.idle": "2021-04-02T12:49:51.461124Z",
     "shell.execute_reply": "2021-04-02T12:49:51.460401Z"
    },
    "papermill": {
     "duration": 0.051656,
     "end_time": "2021-04-02T12:49:51.461260",
     "exception": false,
     "start_time": "2021-04-02T12:49:51.409604",
     "status": "completed"
    },
    "tags": []
   },
   "outputs": [
    {
     "name": "stdout",
     "output_type": "stream",
     "text": [
      "Our dataset contains 66.0% benign data and 34.0% malignant data\n"
     ]
    }
   ],
   "source": [
    "benign_pct    = round(len(y[y.Class == 2]) / len(y), 2) * 100 \n",
    "malignant_pct = round(len(y[y.Class == 4]) / len(y), 2) * 100 \n",
    "print(f\"Our dataset contains {benign_pct}% benign data and {malignant_pct}% malignant data\")"
   ]
  },
  {
   "cell_type": "code",
   "execution_count": 27,
   "metadata": {
    "execution": {
     "iopub.execute_input": "2021-04-02T12:49:51.548686Z",
     "iopub.status.busy": "2021-04-02T12:49:51.547712Z",
     "iopub.status.idle": "2021-04-02T12:49:51.551693Z",
     "shell.execute_reply": "2021-04-02T12:49:51.551230Z"
    },
    "papermill": {
     "duration": 0.049953,
     "end_time": "2021-04-02T12:49:51.551829",
     "exception": false,
     "start_time": "2021-04-02T12:49:51.501876",
     "status": "completed"
    },
    "tags": []
   },
   "outputs": [],
   "source": [
    "# Splitting the dataset (15% as test dataset)\n",
    "x_train, x_test, y_train, y_test = train_test_split(x, y.values.ravel(), test_size=0.15, random_state=0)"
   ]
  },
  {
   "cell_type": "code",
   "execution_count": 28,
   "metadata": {
    "execution": {
     "iopub.execute_input": "2021-04-02T12:49:51.636264Z",
     "iopub.status.busy": "2021-04-02T12:49:51.635727Z",
     "iopub.status.idle": "2021-04-02T12:49:51.638970Z",
     "shell.execute_reply": "2021-04-02T12:49:51.639425Z"
    },
    "papermill": {
     "duration": 0.047346,
     "end_time": "2021-04-02T12:49:51.639582",
     "exception": false,
     "start_time": "2021-04-02T12:49:51.592236",
     "status": "completed"
    },
    "tags": []
   },
   "outputs": [],
   "source": [
    "skf = StratifiedKFold(n_splits=3)"
   ]
  },
  {
   "cell_type": "code",
   "execution_count": 29,
   "metadata": {
    "execution": {
     "iopub.execute_input": "2021-04-02T12:49:51.725114Z",
     "iopub.status.busy": "2021-04-02T12:49:51.724210Z",
     "iopub.status.idle": "2021-04-02T12:49:51.915573Z",
     "shell.execute_reply": "2021-04-02T12:49:51.915077Z"
    },
    "papermill": {
     "duration": 0.234593,
     "end_time": "2021-04-02T12:49:51.915740",
     "exception": false,
     "start_time": "2021-04-02T12:49:51.681147",
     "status": "completed"
    },
    "tags": []
   },
   "outputs": [
    {
     "name": "stdout",
     "output_type": "stream",
     "text": [
      "LassoCV: 0.8281590397440844\n",
      "SVM(SVC): 0.9646464646464646\n"
     ]
    }
   ],
   "source": [
    "score = cross_val_score(LassoCV(), x_train, y_train, cv=skf)\n",
    "print(f'LassoCV: {score.mean()}')\n",
    "\n",
    "score = cross_val_score(SVC(), x_train, y_train, cv=skf)\n",
    "print(f'SVM(SVC): {score.mean()}')"
   ]
  },
  {
   "cell_type": "code",
   "execution_count": 30,
   "metadata": {
    "execution": {
     "iopub.execute_input": "2021-04-02T12:49:52.004959Z",
     "iopub.status.busy": "2021-04-02T12:49:52.004358Z",
     "iopub.status.idle": "2021-04-02T12:49:53.281362Z",
     "shell.execute_reply": "2021-04-02T12:49:53.280747Z"
    },
    "papermill": {
     "duration": 1.324796,
     "end_time": "2021-04-02T12:49:53.281500",
     "exception": false,
     "start_time": "2021-04-02T12:49:51.956704",
     "status": "completed"
    },
    "tags": []
   },
   "outputs": [
    {
     "data": {
      "text/plain": [
       "{'C': 1, 'gamma': 0.001, 'kernel': 'rbf'}"
      ]
     },
     "execution_count": 30,
     "metadata": {},
     "output_type": "execute_result"
    }
   ],
   "source": [
    "# Parameter tuning\n",
    "\n",
    "def svc_param_selection(X, y, nfolds):\n",
    "    Cs = [0.001, 0.01, 0.1, 1, 10]\n",
    "    gammas = [0.001, 0.01, 0.1, 1]\n",
    "    kernels = ['linear', 'rbf']\n",
    "    param_grid = {\n",
    "        'C': Cs, \n",
    "        'gamma' : gammas, \n",
    "        'kernel': kernels\n",
    "    }\n",
    "    \n",
    "    grid_search = GridSearchCV(SVC(), param_grid, cv=nfolds)\n",
    "    grid_search.fit(X, y)\n",
    "    grid_search.best_params_\n",
    "    return grid_search.best_params_\n",
    "\n",
    "\n",
    "best_params_ = svc_param_selection(x_train, y_train, skf)\n",
    "best_params_"
   ]
  },
  {
   "cell_type": "code",
   "execution_count": 31,
   "metadata": {
    "execution": {
     "iopub.execute_input": "2021-04-02T12:49:53.370785Z",
     "iopub.status.busy": "2021-04-02T12:49:53.369878Z",
     "iopub.status.idle": "2021-04-02T12:49:53.396928Z",
     "shell.execute_reply": "2021-04-02T12:49:53.397365Z"
    },
    "papermill": {
     "duration": 0.074094,
     "end_time": "2021-04-02T12:49:53.397537",
     "exception": false,
     "start_time": "2021-04-02T12:49:53.323443",
     "status": "completed"
    },
    "tags": []
   },
   "outputs": [
    {
     "name": "stdout",
     "output_type": "stream",
     "text": [
      "SVM(SVC): 0.9646464646464646\n"
     ]
    }
   ],
   "source": [
    "# Cross Validation\n",
    "score = cross_val_score(SVC(C=1, gamma=0.01, kernel='rbf'), x_train, y_train, cv=skf)\n",
    "print(f'SVM(SVC): {score.mean()}')"
   ]
  },
  {
   "cell_type": "markdown",
   "metadata": {
    "papermill": {
     "duration": 0.04094,
     "end_time": "2021-04-02T12:49:53.479895",
     "exception": false,
     "start_time": "2021-04-02T12:49:53.438955",
     "status": "completed"
    },
    "tags": []
   },
   "source": [
    "NOTE: Recursive Feature Selection cannot not be done on `rbf` kernel of SVM"
   ]
  },
  {
   "cell_type": "markdown",
   "metadata": {
    "papermill": {
     "duration": 0.041147,
     "end_time": "2021-04-02T12:49:53.562504",
     "exception": false,
     "start_time": "2021-04-02T12:49:53.521357",
     "status": "completed"
    },
    "tags": []
   },
   "source": [
    "If number of features are comparable or even greater than the number of training examples(observations) then the dataset is said to be `high dimensional` or `wide`. When training with high dimensional data we get complex models that will fit the data & in extreme case you can create a model that will exactly predict the training data but at a cost of poorly generalizing. This is not good.\n",
    "\n",
    "To deal with high dimensional data we can use either `Feature Selection` or `Dimensionality Reduction`.\n",
    "\n",
    "There are 3 types of feature selection methods\n",
    "- `Filter`: It is applied before training a model, where you use statistical properties of the features to remove those data with low predictive power and then use this data to train model\n",
    "- `Wrapper`: It trains multiple model with different combinations of training data and models and gives the best training data with best model\n",
    "- `Embedded`: It does feature selection while training the model, the result is model that emphasis on most useful featrues.\n",
    "\n",
    "[Source](https://www.coursera.org/lecture/predictive-modeling-machine-learning/embedded-methods-for-feature-selection-Q9LnS) to know more about `embedded feature selection`.\n"
   ]
  },
  {
   "cell_type": "markdown",
   "metadata": {
    "papermill": {
     "duration": 0.041017,
     "end_time": "2021-04-02T12:49:53.644813",
     "exception": false,
     "start_time": "2021-04-02T12:49:53.603796",
     "status": "completed"
    },
    "tags": []
   },
   "source": [
    "#### Using embedded method for feature selection"
   ]
  },
  {
   "cell_type": "code",
   "execution_count": 32,
   "metadata": {
    "execution": {
     "iopub.execute_input": "2021-04-02T12:49:53.735245Z",
     "iopub.status.busy": "2021-04-02T12:49:53.734518Z",
     "iopub.status.idle": "2021-04-02T12:49:53.794526Z",
     "shell.execute_reply": "2021-04-02T12:49:53.793966Z"
    },
    "papermill": {
     "duration": 0.108573,
     "end_time": "2021-04-02T12:49:53.794675",
     "exception": false,
     "start_time": "2021-04-02T12:49:53.686102",
     "status": "completed"
    },
    "tags": []
   },
   "outputs": [
    {
     "name": "stdout",
     "output_type": "stream",
     "text": [
      "Best regularization parameter using built-in LassoCV: 0.031983445283669094\n",
      "Best score using built-in LassoCV: 0.8364856912033988\n"
     ]
    },
    {
     "data": {
      "text/plain": [
       "Clump          0.065597\n",
       "UnifSize       0.044891\n",
       "UnifShape      0.033253\n",
       "MargAdh        0.014070\n",
       "SingEpiSize    0.012444\n",
       "BareNuc        0.086892\n",
       "BlandChrom     0.040159\n",
       "NormNucl       0.035733\n",
       "Mit            0.000000\n",
       "dtype: float64"
      ]
     },
     "execution_count": 32,
     "metadata": {},
     "output_type": "execute_result"
    }
   ],
   "source": [
    "reg = LassoCV()\n",
    "\n",
    "reg.fit(x_train, y_train)\n",
    "print(f'Best regularization parameter using built-in LassoCV: {reg.alpha_}')\n",
    "print(f'Best score using built-in LassoCV: {reg.score(x_train, y_train)}')\n",
    "\n",
    "coef = pd.Series(reg.coef_, index = x_train.columns)\n",
    "coef"
   ]
  },
  {
   "cell_type": "code",
   "execution_count": 33,
   "metadata": {
    "execution": {
     "iopub.execute_input": "2021-04-02T12:49:53.884011Z",
     "iopub.status.busy": "2021-04-02T12:49:53.883290Z",
     "iopub.status.idle": "2021-04-02T12:49:53.886861Z",
     "shell.execute_reply": "2021-04-02T12:49:53.887288Z"
    },
    "papermill": {
     "duration": 0.050931,
     "end_time": "2021-04-02T12:49:53.887439",
     "exception": false,
     "start_time": "2021-04-02T12:49:53.836508",
     "status": "completed"
    },
    "tags": []
   },
   "outputs": [
    {
     "name": "stdout",
     "output_type": "stream",
     "text": [
      "Lasso picked 8 variables and eliminated the other 1 variables\n"
     ]
    }
   ],
   "source": [
    "print(f'Lasso picked {sum(coef != 0)} variables and eliminated the other {sum(coef == 0)} variables')"
   ]
  },
  {
   "cell_type": "code",
   "execution_count": 34,
   "metadata": {
    "execution": {
     "iopub.execute_input": "2021-04-02T12:49:54.003336Z",
     "iopub.status.busy": "2021-04-02T12:49:53.988970Z",
     "iopub.status.idle": "2021-04-02T12:49:54.128924Z",
     "shell.execute_reply": "2021-04-02T12:49:54.128304Z"
    },
    "papermill": {
     "duration": 0.199183,
     "end_time": "2021-04-02T12:49:54.129061",
     "exception": false,
     "start_time": "2021-04-02T12:49:53.929878",
     "status": "completed"
    },
    "tags": []
   },
   "outputs": [
    {
     "data": {
      "text/plain": [
       "<AxesSubplot:>"
      ]
     },
     "execution_count": 34,
     "metadata": {},
     "output_type": "execute_result"
    },
    {
     "data": {
      "image/png": "[encoded data removed]",
      "text/plain": [
       "<Figure size 432x288 with 1 Axes>"
      ]
     },
     "metadata": {
      "needs_background": "light"
     },
     "output_type": "display_data"
    }
   ],
   "source": [
    "sns.barplot(x=coef, y=coef.index, orient='h', color='#bbff5c')"
   ]
  },
  {
   "cell_type": "markdown",
   "metadata": {
    "papermill": {
     "duration": 0.044127,
     "end_time": "2021-04-02T12:49:54.216705",
     "exception": false,
     "start_time": "2021-04-02T12:49:54.172578",
     "status": "completed"
    },
    "tags": []
   },
   "source": [
    "Here Lasso model has taken all the features, except Mit so we will remove that feature"
   ]
  },
  {
   "cell_type": "markdown",
   "metadata": {
    "papermill": {
     "duration": 0.043547,
     "end_time": "2021-04-02T12:49:54.303470",
     "exception": false,
     "start_time": "2021-04-02T12:49:54.259923",
     "status": "completed"
    },
    "tags": []
   },
   "source": [
    "#### Using Backward Elimination for feature selection\n",
    "\n",
    "[Source_1](https://towardsdatascience.com/backward-elimination-for-feature-selection-in-machine-learning-c6a3a8f8cef4) and [Source_2](https://medium.com/@mayankshah1607/machine-learning-feature-selection-with-backward-elimination-955894654026) to know more about `backward elimination` "
   ]
  },
  {
   "cell_type": "code",
   "execution_count": 35,
   "metadata": {
    "execution": {
     "iopub.execute_input": "2021-04-02T12:49:54.395759Z",
     "iopub.status.busy": "2021-04-02T12:49:54.394747Z",
     "iopub.status.idle": "2021-04-02T12:49:54.411039Z",
     "shell.execute_reply": "2021-04-02T12:49:54.410557Z"
    },
    "papermill": {
     "duration": 0.064353,
     "end_time": "2021-04-02T12:49:54.411180",
     "exception": false,
     "start_time": "2021-04-02T12:49:54.346827",
     "status": "completed"
    },
    "tags": []
   },
   "outputs": [
    {
     "data": {
      "text/plain": [
       "const          2.381329e-176\n",
       "Clump           2.861026e-17\n",
       "UnifSize        3.574851e-03\n",
       "UnifShape       1.848212e-02\n",
       "MargAdh         7.304446e-02\n",
       "SingEpiSize     9.902671e-02\n",
       "BareNuc         3.671993e-31\n",
       "BlandChrom      6.902807e-05\n",
       "NormNucl        7.822861e-06\n",
       "Mit             9.614491e-01\n",
       "dtype: float64"
      ]
     },
     "execution_count": 35,
     "metadata": {},
     "output_type": "execute_result"
    }
   ],
   "source": [
    "x_1 = sm.add_constant(x_train)\n",
    "\n",
    "# Fitting sm.OLS model\n",
    "sm_model = sm.OLS(y_train, x_1).fit()\n",
    "sm_model.pvalues"
   ]
  },
  {
   "cell_type": "code",
   "execution_count": 36,
   "metadata": {
    "execution": {
     "iopub.execute_input": "2021-04-02T12:49:54.510782Z",
     "iopub.status.busy": "2021-04-02T12:49:54.509824Z",
     "iopub.status.idle": "2021-04-02T12:49:54.531650Z",
     "shell.execute_reply": "2021-04-02T12:49:54.532142Z"
    },
    "papermill": {
     "duration": 0.077609,
     "end_time": "2021-04-02T12:49:54.532301",
     "exception": false,
     "start_time": "2021-04-02T12:49:54.454692",
     "status": "completed"
    },
    "tags": []
   },
   "outputs": [
    {
     "name": "stdout",
     "output_type": "stream",
     "text": [
      "['Clump', 'UnifSize', 'UnifShape', 'BareNuc', 'BlandChrom', 'NormNucl']\n"
     ]
    }
   ],
   "source": [
    "# Backward Elimination\n",
    "\n",
    "def backward_elminiation(x_train, y_train):\n",
    "    columns = list(x_train.columns)\n",
    "    p_max = 1\n",
    "    \n",
    "    while len(columns) > 0:\n",
    "        p = []\n",
    "\n",
    "        x_1 = x_train[columns]\n",
    "        x_1 = sm.add_constant(x_1)  # `add_constant`: Add a column of ones to an array\n",
    "        \n",
    "        # Fitting sm.OLS model\n",
    "        model = sm.OLS(y_train, x_1).fit()\n",
    "        \n",
    "        # p-values\n",
    "        p = pd.Series(model.pvalues.values[1:], index=columns)\n",
    "        pmax = max(p)\n",
    "        feature_with_p_max = p.idxmax()\n",
    "        \n",
    "        # if p-value (significance) 0.05 (5%) then remove the column\n",
    "        if pmax > 0.05:\n",
    "            columns.remove(feature_with_p_max)\n",
    "        else:\n",
    "            break\n",
    "            \n",
    "    selected_features_BE = columns\n",
    "    print(selected_features_BE)\n",
    "        \n",
    "\n",
    "backward_elminiation(x_train, y_train)"
   ]
  },
  {
   "cell_type": "markdown",
   "metadata": {
    "papermill": {
     "duration": 0.043588,
     "end_time": "2021-04-02T12:49:54.619867",
     "exception": false,
     "start_time": "2021-04-02T12:49:54.576279",
     "status": "completed"
    },
    "tags": []
   },
   "source": [
    "#### Selecting the best features from embedded method and backward elimination"
   ]
  },
  {
   "cell_type": "code",
   "execution_count": 37,
   "metadata": {
    "execution": {
     "iopub.execute_input": "2021-04-02T12:49:54.712485Z",
     "iopub.status.busy": "2021-04-02T12:49:54.711577Z",
     "iopub.status.idle": "2021-04-02T12:49:54.714804Z",
     "shell.execute_reply": "2021-04-02T12:49:54.714219Z"
    },
    "papermill": {
     "duration": 0.051391,
     "end_time": "2021-04-02T12:49:54.714938",
     "exception": false,
     "start_time": "2021-04-02T12:49:54.663547",
     "status": "completed"
    },
    "tags": []
   },
   "outputs": [],
   "source": [
    "# From embedded method\n",
    "emb_features = ['Clump', 'UnifSize', 'SingEpiSize', 'BareNuc', 'BlandChrom', 'NormNucl', 'SingEpiSize', 'MargAdh', 'UnifShape']\n",
    "\n",
    "# From backward elimination \n",
    "bem_features = ['Clump', 'UnifSize', 'SingEpiSize', 'BareNuc', 'BlandChrom', 'NormNucl']"
   ]
  },
  {
   "cell_type": "code",
   "execution_count": 38,
   "metadata": {
    "execution": {
     "iopub.execute_input": "2021-04-02T12:49:54.806164Z",
     "iopub.status.busy": "2021-04-02T12:49:54.805565Z",
     "iopub.status.idle": "2021-04-02T12:49:57.428900Z",
     "shell.execute_reply": "2021-04-02T12:49:57.428208Z"
    },
    "papermill": {
     "duration": 2.669772,
     "end_time": "2021-04-02T12:49:57.429097",
     "exception": false,
     "start_time": "2021-04-02T12:49:54.759325",
     "status": "completed"
    },
    "tags": []
   },
   "outputs": [
    {
     "name": "stdout",
     "output_type": "stream",
     "text": [
      "{'C': 1, 'gamma': 0.001, 'kernel': 'rbf'}\n",
      "Embeeded Method Features mean score: 0.9596\n",
      "\n",
      "{'C': 1, 'gamma': 0.001, 'kernel': 'rbf'}\n",
      "Backward Elimination Features mean score: 0.9613\n"
     ]
    }
   ],
   "source": [
    "# Doing Cross Validation on emb_features\n",
    "\n",
    "\n",
    "emb_x_train = x_train[emb_features]\n",
    "emb_y_train = y_train.copy()\n",
    "\n",
    "emb_cv_clf = SVC(C=1, kernel='rbf', gamma=0.001)\n",
    "scores = cross_val_score(emb_cv_clf, emb_x_train, emb_y_train, cv=skf)\n",
    "emb_best_params_ = svc_param_selection(x_train, y_train, skf)\n",
    "print(emb_best_params_)\n",
    "print(f'Embeeded Method Features mean score: {round(scores.mean(), 4)}')\n",
    "\n",
    "\n",
    "print()\n",
    "\n",
    "\n",
    "bem_x_train = x_train[bem_features]\n",
    "bem_y_train = y_train.copy()\n",
    "\n",
    "bem_cv_clf = SVC(C=1, kernel='rbf', gamma=0.001)\n",
    "scores = cross_val_score(bem_cv_clf, bem_x_train, bem_y_train, cv=skf)\n",
    "bem_best_params_ = svc_param_selection(x_train, y_train, skf)\n",
    "print(bem_best_params_)\n",
    "print(f'Backward Elimination Features mean score: {round(scores.mean(), 4)}')"
   ]
  },
  {
   "cell_type": "code",
   "execution_count": 39,
   "metadata": {
    "execution": {
     "iopub.execute_input": "2021-04-02T12:49:57.527501Z",
     "iopub.status.busy": "2021-04-02T12:49:57.526707Z",
     "iopub.status.idle": "2021-04-02T12:49:57.528660Z",
     "shell.execute_reply": "2021-04-02T12:49:57.529248Z"
    },
    "papermill": {
     "duration": 0.054745,
     "end_time": "2021-04-02T12:49:57.529407",
     "exception": false,
     "start_time": "2021-04-02T12:49:57.474662",
     "status": "completed"
    },
    "tags": []
   },
   "outputs": [],
   "source": [
    "# Selecting features which gave the highest cross-validation mean score\n",
    "\n",
    "final_features = ['Clump', 'UnifSize', 'UnifShape', 'MargAdh', 'SingEpiSize', 'BareNuc', 'BlandChrom', 'NormNucl', 'Mit']\n",
    "target = ['Class']\n",
    "\n",
    "x_train = x_train[final_features]\n",
    "x_test = x_test[final_features]"
   ]
  },
  {
   "cell_type": "code",
   "execution_count": 40,
   "metadata": {
    "execution": {
     "iopub.execute_input": "2021-04-02T12:49:57.622031Z",
     "iopub.status.busy": "2021-04-02T12:49:57.621468Z",
     "iopub.status.idle": "2021-04-02T12:49:58.939085Z",
     "shell.execute_reply": "2021-04-02T12:49:58.938564Z"
    },
    "papermill": {
     "duration": 1.365041,
     "end_time": "2021-04-02T12:49:58.939218",
     "exception": false,
     "start_time": "2021-04-02T12:49:57.574177",
     "status": "completed"
    },
    "tags": []
   },
   "outputs": [
    {
     "data": {
      "text/plain": [
       "{'C': 1, 'gamma': 0.001, 'kernel': 'rbf'}"
      ]
     },
     "execution_count": 40,
     "metadata": {},
     "output_type": "execute_result"
    }
   ],
   "source": [
    "svc_param_selection(x_train, y_train, skf)"
   ]
  },
  {
   "cell_type": "code",
   "execution_count": 41,
   "metadata": {
    "execution": {
     "iopub.execute_input": "2021-04-02T12:49:59.043135Z",
     "iopub.status.busy": "2021-04-02T12:49:59.039090Z",
     "iopub.status.idle": "2021-04-02T12:49:59.068172Z",
     "shell.execute_reply": "2021-04-02T12:49:59.067350Z"
    },
    "papermill": {
     "duration": 0.083418,
     "end_time": "2021-04-02T12:49:59.068413",
     "exception": false,
     "start_time": "2021-04-02T12:49:58.984995",
     "status": "completed"
    },
    "tags": []
   },
   "outputs": [
    {
     "name": "stdout",
     "output_type": "stream",
     "text": [
      "SVM(SVC): 0.9663299663299663\n"
     ]
    }
   ],
   "source": [
    "# Cross Validation\n",
    "score = cross_val_score(SVC(C=1, gamma=0.001, kernel='rbf'), x_train, y_train, cv=skf)\n",
    "print(f'SVM(SVC): {score.mean()}')"
   ]
  },
  {
   "cell_type": "code",
   "execution_count": 42,
   "metadata": {
    "execution": {
     "iopub.execute_input": "2021-04-02T12:49:59.169662Z",
     "iopub.status.busy": "2021-04-02T12:49:59.169025Z",
     "iopub.status.idle": "2021-04-02T12:49:59.585443Z",
     "shell.execute_reply": "2021-04-02T12:49:59.585963Z"
    },
    "papermill": {
     "duration": 0.471094,
     "end_time": "2021-04-02T12:49:59.586139",
     "exception": false,
     "start_time": "2021-04-02T12:49:59.115045",
     "status": "completed"
    },
    "tags": []
   },
   "outputs": [
    {
     "name": "stderr",
     "output_type": "stream",
     "text": [
      "/opt/conda/lib/python3.7/site-packages/sklearn/model_selection/_validation.py:614: FitFailedWarning: Estimator fit failed. The score on this train-test partition for these parameters will be set to nan. Details: \n",
      "Traceback (most recent call last):\n",
      "  File \"/opt/conda/lib/python3.7/site-packages/sklearn/model_selection/_validation.py\", line 593, in _fit_and_score\n",
      "    estimator.fit(X_train, y_train, **fit_params)\n",
      "  File \"/opt/conda/lib/python3.7/site-packages/sklearn/svm/_base.py\", line 173, in fit\n",
      "    y = self._validate_targets(y)\n",
      "  File \"/opt/conda/lib/python3.7/site-packages/sklearn/svm/_base.py\", line 560, in _validate_targets\n",
      "    \" class\" % len(cls))\n",
      "ValueError: The number of classes has to be greater than one; got 1 class\n",
      "\n",
      "  FitFailedWarning)\n",
      "/opt/conda/lib/python3.7/site-packages/sklearn/model_selection/_validation.py:614: FitFailedWarning: Estimator fit failed. The score on this train-test partition for these parameters will be set to nan. Details: \n",
      "Traceback (most recent call last):\n",
      "  File \"/opt/conda/lib/python3.7/site-packages/sklearn/model_selection/_validation.py\", line 593, in _fit_and_score\n",
      "    estimator.fit(X_train, y_train, **fit_params)\n",
      "  File \"/opt/conda/lib/python3.7/site-packages/sklearn/svm/_base.py\", line 173, in fit\n",
      "    y = self._validate_targets(y)\n",
      "  File \"/opt/conda/lib/python3.7/site-packages/sklearn/svm/_base.py\", line 560, in _validate_targets\n",
      "    \" class\" % len(cls))\n",
      "ValueError: The number of classes has to be greater than one; got 1 class\n",
      "\n",
      "  FitFailedWarning)\n",
      "/opt/conda/lib/python3.7/site-packages/sklearn/model_selection/_validation.py:614: FitFailedWarning: Estimator fit failed. The score on this train-test partition for these parameters will be set to nan. Details: \n",
      "Traceback (most recent call last):\n",
      "  File \"/opt/conda/lib/python3.7/site-packages/sklearn/model_selection/_validation.py\", line 593, in _fit_and_score\n",
      "    estimator.fit(X_train, y_train, **fit_params)\n",
      "  File \"/opt/conda/lib/python3.7/site-packages/sklearn/svm/_base.py\", line 173, in fit\n",
      "    y = self._validate_targets(y)\n",
      "  File \"/opt/conda/lib/python3.7/site-packages/sklearn/svm/_base.py\", line 560, in _validate_targets\n",
      "    \" class\" % len(cls))\n",
      "ValueError: The number of classes has to be greater than one; got 1 class\n",
      "\n",
      "  FitFailedWarning)\n"
     ]
    }
   ],
   "source": [
    "# Plotting learning curve\n",
    "\n",
    "_size = np.arange(0.01, 1.01, 0.06)\n",
    "train_sizes = np.array(_size)\n",
    "scoring = 'neg_mean_squared_error'\n",
    "\n",
    "train_sizes_abs, train_scores, cv_scores = learning_curve(\n",
    "    SVC(C=1, gamma=0.001, kernel='rbf'), \n",
    "    x_train, y_train, \n",
    "    train_sizes=train_sizes, cv=skf, scoring=scoring\n",
    ")"
   ]
  },
  {
   "cell_type": "code",
   "execution_count": 43,
   "metadata": {
    "execution": {
     "iopub.execute_input": "2021-04-02T12:49:59.683757Z",
     "iopub.status.busy": "2021-04-02T12:49:59.683177Z",
     "iopub.status.idle": "2021-04-02T12:49:59.685822Z",
     "shell.execute_reply": "2021-04-02T12:49:59.685280Z"
    },
    "papermill": {
     "duration": 0.053941,
     "end_time": "2021-04-02T12:49:59.685958",
     "exception": false,
     "start_time": "2021-04-02T12:49:59.632017",
     "status": "completed"
    },
    "tags": []
   },
   "outputs": [],
   "source": [
    "train_scores_mean = []\n",
    "for row in train_scores:\n",
    "    _mean = row.mean()\n",
    "    train_scores_mean.append(_mean)\n",
    "    \n",
    "cv_scores_mean = []\n",
    "for row in cv_scores:\n",
    "    _mean = row.mean()\n",
    "    cv_scores_mean.append(_mean)    \n",
    "    \n",
    "train_scores_mean = -np.array(train_scores_mean)\n",
    "cv_scores_mean = -np.array(cv_scores_mean)"
   ]
  },
  {
   "cell_type": "code",
   "execution_count": 44,
   "metadata": {
    "execution": {
     "iopub.execute_input": "2021-04-02T12:49:59.780902Z",
     "iopub.status.busy": "2021-04-02T12:49:59.780320Z",
     "iopub.status.idle": "2021-04-02T12:49:59.945995Z",
     "shell.execute_reply": "2021-04-02T12:49:59.945485Z"
    },
    "papermill": {
     "duration": 0.214216,
     "end_time": "2021-04-02T12:49:59.946142",
     "exception": false,
     "start_time": "2021-04-02T12:49:59.731926",
     "status": "completed"
    },
    "tags": []
   },
   "outputs": [
    {
     "data": {
      "text/plain": [
       "<matplotlib.legend.Legend at 0x7fab649c85d0>"
      ]
     },
     "execution_count": 44,
     "metadata": {},
     "output_type": "execute_result"
    },
    {
     "data": {
      "image/png": "[encoded data removed]",
      "text/plain": [
       "<Figure size 720x360 with 1 Axes>"
      ]
     },
     "metadata": {
      "needs_background": "light"
     },
     "output_type": "display_data"
    }
   ],
   "source": [
    "f, ax = plt.subplots(figsize=(10, 5))\n",
    "\n",
    "ax.plot(train_sizes_abs, train_scores_mean, label='Train')\n",
    "ax.plot(train_sizes_abs, cv_scores_mean, label='Cross Validation')\n",
    "\n",
    "ax.legend()"
   ]
  },
  {
   "cell_type": "code",
   "execution_count": 45,
   "metadata": {
    "execution": {
     "iopub.execute_input": "2021-04-02T12:50:00.046383Z",
     "iopub.status.busy": "2021-04-02T12:50:00.045707Z",
     "iopub.status.idle": "2021-04-02T12:50:00.059470Z",
     "shell.execute_reply": "2021-04-02T12:50:00.059962Z"
    },
    "papermill": {
     "duration": 0.065856,
     "end_time": "2021-04-02T12:50:00.060128",
     "exception": false,
     "start_time": "2021-04-02T12:49:59.994272",
     "status": "completed"
    },
    "tags": []
   },
   "outputs": [
    {
     "data": {
      "text/plain": [
       "SVC(C=1, gamma=0.001)"
      ]
     },
     "execution_count": 45,
     "metadata": {},
     "output_type": "execute_result"
    }
   ],
   "source": [
    "# Fitting model\n",
    "\n",
    "model = SVC(C=1, gamma=0.001, kernel='rbf')\n",
    "model.fit(x_train, y_train)"
   ]
  },
  {
   "cell_type": "markdown",
   "metadata": {
    "papermill": {
     "duration": 0.049216,
     "end_time": "2021-04-02T12:50:00.159865",
     "exception": false,
     "start_time": "2021-04-02T12:50:00.110649",
     "status": "completed"
    },
    "tags": []
   },
   "source": [
    "## Evaluation"
   ]
  },
  {
   "cell_type": "code",
   "execution_count": 46,
   "metadata": {
    "execution": {
     "iopub.execute_input": "2021-04-02T12:50:00.261145Z",
     "iopub.status.busy": "2021-04-02T12:50:00.260569Z",
     "iopub.status.idle": "2021-04-02T12:50:00.266796Z",
     "shell.execute_reply": "2021-04-02T12:50:00.267249Z"
    },
    "papermill": {
     "duration": 0.057885,
     "end_time": "2021-04-02T12:50:00.267420",
     "exception": false,
     "start_time": "2021-04-02T12:50:00.209535",
     "status": "completed"
    },
    "tags": []
   },
   "outputs": [],
   "source": [
    "y_test_pred = model.predict(x_test)"
   ]
  },
  {
   "cell_type": "code",
   "execution_count": 47,
   "metadata": {
    "execution": {
     "iopub.execute_input": "2021-04-02T12:50:00.368799Z",
     "iopub.status.busy": "2021-04-02T12:50:00.368228Z",
     "iopub.status.idle": "2021-04-02T12:50:00.381580Z",
     "shell.execute_reply": "2021-04-02T12:50:00.380927Z"
    },
    "papermill": {
     "duration": 0.064902,
     "end_time": "2021-04-02T12:50:00.381780",
     "exception": false,
     "start_time": "2021-04-02T12:50:00.316878",
     "status": "completed"
    },
    "tags": []
   },
   "outputs": [
    {
     "name": "stdout",
     "output_type": "stream",
     "text": [
      "0.9809523809523809\n",
      "0.9809523809523809\n",
      "0.9809523809523809\n",
      "0.9809523809523809\n"
     ]
    }
   ],
   "source": [
    "# Metrics\n",
    "\n",
    "print(model.score(x_test, y_test))\n",
    "print(f1_score(y_test, y_test_pred, average=\"weighted\"))\n",
    "print(precision_score(y_test, y_test_pred, average=\"weighted\"))\n",
    "print(recall_score(y_test, y_test_pred, average=\"weighted\"))"
   ]
  },
  {
   "cell_type": "code",
   "execution_count": 48,
   "metadata": {
    "execution": {
     "iopub.execute_input": "2021-04-02T12:50:00.491023Z",
     "iopub.status.busy": "2021-04-02T12:50:00.490234Z",
     "iopub.status.idle": "2021-04-02T12:50:00.493055Z",
     "shell.execute_reply": "2021-04-02T12:50:00.492568Z"
    },
    "papermill": {
     "duration": 0.061071,
     "end_time": "2021-04-02T12:50:00.493187",
     "exception": false,
     "start_time": "2021-04-02T12:50:00.432116",
     "status": "completed"
    },
    "tags": []
   },
   "outputs": [],
   "source": [
    "def plot_confusion_matrix(cm, classes, normalize=False, title='Confusion matrix'):\n",
    "    '''\n",
    "        This function prints and plots the confusion matrix.\n",
    "        Normalization can be applied by setting `normalize=True`.\n",
    "    '''\n",
    "\n",
    "    if normalize:\n",
    "        cm = cm.astype('float') / cm.sum(axis=1)[:, np.newaxis]\n",
    "        print('Normalized confusion matrix')\n",
    "    else:\n",
    "        print('Confusion matrix, without normalization')\n",
    "\n",
    "    print(cm)\n",
    "\n",
    "    plt.imshow(cm, interpolation='nearest', cmap=sns.cubehelix_palette(start=.5, rot=-.5, as_cmap=True))\n",
    "    plt.title(title)\n",
    "    plt.colorbar()\n",
    "    tick_marks = np.arange(len(classes))\n",
    "    plt.xticks(tick_marks, classes, rotation=10)\n",
    "    plt.yticks(tick_marks, classes)\n",
    "\n",
    "    fmt = '.2f' if normalize else 'd'\n",
    "    thresh = cm.max() / 2.\n",
    "    for i, j in itertools.product(range(cm.shape[0]), range(cm.shape[1])):\n",
    "        plt.text(\n",
    "            j, i, format(cm[i, j], fmt),\n",
    "            horizontalalignment='center',\n",
    "            color='white' if cm[i, j] > thresh else 'black'\n",
    "        )\n",
    "\n",
    "    plt.tight_layout()\n",
    "    plt.ylabel('True label')\n",
    "    plt.xlabel('Predicted label')"
   ]
  },
  {
   "cell_type": "code",
   "execution_count": 49,
   "metadata": {
    "execution": {
     "iopub.execute_input": "2021-04-02T12:50:00.598913Z",
     "iopub.status.busy": "2021-04-02T12:50:00.598272Z",
     "iopub.status.idle": "2021-04-02T12:50:00.768490Z",
     "shell.execute_reply": "2021-04-02T12:50:00.769065Z"
    },
    "papermill": {
     "duration": 0.226735,
     "end_time": "2021-04-02T12:50:00.769239",
     "exception": false,
     "start_time": "2021-04-02T12:50:00.542504",
     "status": "completed"
    },
    "tags": []
   },
   "outputs": [
    {
     "name": "stdout",
     "output_type": "stream",
     "text": [
      "              precision    recall  f1-score   support\n",
      "\n",
      "           2       0.99      0.99      0.99        68\n",
      "           4       0.97      0.97      0.97        37\n",
      "\n",
      "    accuracy                           0.98       105\n",
      "   macro avg       0.98      0.98      0.98       105\n",
      "weighted avg       0.98      0.98      0.98       105\n",
      "\n",
      "Confusion matrix, without normalization\n",
      "[[67  1]\n",
      " [ 1 36]]\n"
     ]
    },
    {
     "data": {
      "image/png": "[encoded data removed]",
      "text/plain": [
       "<Figure size 432x288 with 2 Axes>"
      ]
     },
     "metadata": {
      "needs_background": "light"
     },
     "output_type": "display_data"
    }
   ],
   "source": [
    "# Compute confusion matrix\n",
    "cnf_matrix = confusion_matrix(y_test, y_test_pred, labels=[2,4])\n",
    "np.set_printoptions(precision=2)\n",
    "\n",
    "print(classification_report(y_test, y_test_pred))\n",
    "\n",
    "# Plot non-normalized confusion matrix\n",
    "plt.figure()\n",
    "plot_confusion_matrix(cnf_matrix, classes=['Benign(2)','Malignant(4)'],normalize= False,  title='Confusion matrix')"
   ]
  },
  {
   "cell_type": "code",
   "execution_count": 50,
   "metadata": {
    "execution": {
     "iopub.execute_input": "2021-04-02T12:50:00.873581Z",
     "iopub.status.busy": "2021-04-02T12:50:00.872962Z",
     "iopub.status.idle": "2021-04-02T12:50:00.901786Z",
     "shell.execute_reply": "2021-04-02T12:50:00.900972Z"
    },
    "papermill": {
     "duration": 0.082218,
     "end_time": "2021-04-02T12:50:00.901977",
     "exception": false,
     "start_time": "2021-04-02T12:50:00.819759",
     "status": "completed"
    },
    "tags": []
   },
   "outputs": [
    {
     "name": "stdout",
     "output_type": "stream",
     "text": [
      "Model Score: 0.9619047619047619\n",
      "f1-score: 0.961651713825627\n",
      "precision score: 0.9621768707482994\n",
      "recall score: 0.9619047619047619\n"
     ]
    }
   ],
   "source": [
    "# Pipeline\n",
    "\n",
    "scaling = ('scale', StandardScaler())\n",
    "model = ('model', SVC(C=1, gamma=0.001, kernel='rbf'))\n",
    "\n",
    "# Steps in the pipeline\n",
    "steps = [scaling, model]\n",
    "\n",
    "# Instantiating pipeline\n",
    "pipe = Pipeline(steps=steps)\n",
    "\n",
    "# Fiitting the model\n",
    "model = pipe.fit(x_train, y_train)\n",
    "\n",
    "# Out-Of-Sample Forecast\n",
    "y_test_pred = model.predict(x_test)\n",
    "\n",
    "# Evaluation\n",
    "print(f'Model Score: {model.score(x_test, y_test)}')\n",
    "print(f'f1-score: {f1_score(y_test, y_test_pred, average=\"weighted\")}')\n",
    "print(f'precision score: {precision_score(y_test, y_test_pred, average=\"weighted\")}')\n",
    "print(f'recall score: {recall_score(y_test, y_test_pred, average=\"weighted\")}')"
   ]
  },
  {
   "cell_type": "code",
   "execution_count": 51,
   "metadata": {
    "execution": {
     "iopub.execute_input": "2021-04-02T12:50:01.011128Z",
     "iopub.status.busy": "2021-04-02T12:50:01.008406Z",
     "iopub.status.idle": "2021-04-02T12:50:01.015781Z",
     "shell.execute_reply": "2021-04-02T12:50:01.015172Z"
    },
    "papermill": {
     "duration": 0.062022,
     "end_time": "2021-04-02T12:50:01.015918",
     "exception": false,
     "start_time": "2021-04-02T12:50:00.953896",
     "status": "completed"
    },
    "tags": []
   },
   "outputs": [
    {
     "data": {
      "text/plain": [
       "['model.joblib']"
      ]
     },
     "execution_count": 51,
     "metadata": {},
     "output_type": "execute_result"
    }
   ],
   "source": [
    "# Saving the model\n",
    "dump(model, 'model.joblib')"
   ]
  },
  {
   "cell_type": "markdown",
   "metadata": {
    "papermill": {
     "duration": 0.051267,
     "end_time": "2021-04-02T12:50:01.118136",
     "exception": false,
     "start_time": "2021-04-02T12:50:01.066869",
     "status": "completed"
    },
    "tags": []
   },
   "source": [
    "---\n",
    "\n",
    "I'll wrap things up there. If you want to find some other answers then go ahead `edit` this kernel. If you have any `questions` then do let me know.\n",
    "\n",
    "If this kernel helped you then don't forget to 🔼 `upvote` and share your 🎙 `feedback` on improvements of the kernel.\n",
    "\n",
    "![](https://media.giphy.com/media/qTD9EXZRgI1y0/giphy.gif)\n",
    "\n",
    "---"
   ]
  }
 ],
 "metadata": {
  "kernelspec": {
   "display_name": "Python 3",
   "language": "python",
   "name": "python3"
  },
  "language_info": {
   "codemirror_mode": {
    "name": "ipython",
    "version": 3
   },
   "file_extension": ".py",
   "mimetype": "text/x-python",
   "name": "python",
   "nbconvert_exporter": "python",
   "pygments_lexer": "ipython3",
   "version": "3.7.9"
  },
  "papermill": {
   "default_parameters": {},
   "duration": 23.619604,
   "end_time": "2021-04-02T12:50:01.879086",
   "environment_variables": {},
   "exception": null,
   "input_path": "__notebook__.ipynb",
   "output_path": "__notebook__.ipynb",
   "parameters": {},
   "start_time": "2021-04-02T12:49:38.259482",
   "version": "2.2.2"
  }
 },
 "nbformat": 4,
 "nbformat_minor": 4
}
